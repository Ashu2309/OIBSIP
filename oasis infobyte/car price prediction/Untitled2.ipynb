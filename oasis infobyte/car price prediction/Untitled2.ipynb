{
 "cells": [
  {
   "cell_type": "code",
   "execution_count": 1,
   "id": "07f56244",
   "metadata": {},
   "outputs": [
    {
     "name": "stdout",
     "output_type": "stream",
     "text": [
      "-2.6425125350106834e+18\n"
     ]
    }
   ],
   "source": [
    "import numpy as np\n",
    "import pandas as pd\n",
    "\n",
    "from sklearn.model_selection import train_test_split\n",
    "from sklearn.preprocessing import MinMaxScaler\n",
    "from sklearn.linear_model import LinearRegression\n",
    "from sklearn.metrics import r2_score\n",
    "\n",
    "# Load the data\n",
    "df = pd.read_csv(\"CarPrice.csv\")\n",
    "\n",
    "# Drop the car_ID column\n",
    "df = df.drop(['car_ID'], axis=1)\n",
    "\n",
    "# Extract the car_company from the CarName column\n",
    "df[\"car_company\"] = df[\"CarName\"].apply(lambda x:x.split(\" \")[0])\n",
    "\n",
    "# Drop the CarName column\n",
    "df = df.drop(\"CarName\", axis=1)\n",
    "\n",
    "# Split the data into features and target\n",
    "X = df.drop(\"price\", axis=1)\n",
    "y = df[\"price\"]\n",
    "\n",
    "# Scale the numerical features\n",
    "num_cols = X.select_dtypes(include=np.number).columns\n",
    "scaler = MinMaxScaler()\n",
    "X[num_cols] = scaler.fit_transform(X[num_cols])\n",
    "\n",
    "# Encode the categorical variables\n",
    "cat_cols = X.select_dtypes(include='object').columns\n",
    "X = pd.get_dummies(X, columns=cat_cols, drop_first=True)\n",
    "\n",
    "# Split the data into training and testing sets\n",
    "X_train, X_test, y_train, y_test = train_test_split(X, y, train_size=0.7, test_size=0.3, random_state=100)\n",
    "\n",
    "# Fit a linear regression model\n",
    "lm = LinearRegression()\n",
    "lm.fit(X_train, y_train)\n",
    "\n",
    "# Make predictions on the test set\n",
    "y_pred = lm.predict(X_test)\n",
    "\n",
    "# Compute the R-squared score\n",
    "print(r2_score(y_true=y_test, y_pred=y_pred))"
   ]
  },
  {
   "cell_type": "code",
   "execution_count": null,
   "id": "8cdb055f",
   "metadata": {},
   "outputs": [],
   "source": []
  }
 ],
 "metadata": {
  "kernelspec": {
   "display_name": "Python 3 (ipykernel)",
   "language": "python",
   "name": "python3"
  },
  "language_info": {
   "codemirror_mode": {
    "name": "ipython",
    "version": 3
   },
   "file_extension": ".py",
   "mimetype": "text/x-python",
   "name": "python",
   "nbconvert_exporter": "python",
   "pygments_lexer": "ipython3",
   "version": "3.9.7"
  }
 },
 "nbformat": 4,
 "nbformat_minor": 5
}
